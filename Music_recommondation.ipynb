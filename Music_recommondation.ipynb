{
 "cells": [
  {
   "cell_type": "code",
   "execution_count": 1,
   "id": "d3ba4be9",
   "metadata": {
    "_cell_guid": "b1076dfc-b9ad-4769-8c92-a6c4dae69d19",
    "_uuid": "8f2839f25d086af736a60e9eeb907d3b93b6e0e5",
    "execution": {
     "iopub.execute_input": "2024-04-18T13:47:07.843560Z",
     "iopub.status.busy": "2024-04-18T13:47:07.842712Z",
     "iopub.status.idle": "2024-04-18T13:47:08.753688Z",
     "shell.execute_reply": "2024-04-18T13:47:08.752445Z"
    },
    "papermill": {
     "duration": 0.926635,
     "end_time": "2024-04-18T13:47:08.756374",
     "exception": false,
     "start_time": "2024-04-18T13:47:07.829739",
     "status": "completed"
    },
    "tags": []
   },
   "outputs": [
    {
     "name": "stdout",
     "output_type": "stream",
     "text": [
      "/kaggle/input/spotify-million-song-dataset/spotify_millsongdata.csv\n"
     ]
    }
   ],
   "source": [
    "# This Python 3 environment comes with many helpful analytics libraries installed\n",
    "# It is defined by the kaggle/python Docker image: https://github.com/kaggle/docker-python\n",
    "# For example, here's several helpful packages to load\n",
    "\n",
    "import numpy as np # linear algebra\n",
    "import pandas as pd # data processing, CSV file I/O (e.g. pd.read_csv)\n",
    "\n",
    "# Input data files are available in the read-only \"../input/\" directory\n",
    "# For example, running this (by clicking run or pressing Shift+Enter) will list all files under the input directory\n",
    "\n",
    "import os\n",
    "for dirname, _, filenames in os.walk('/kaggle/input'):\n",
    "    for filename in filenames:\n",
    "        print(os.path.join(dirname, filename))\n",
    "\n",
    "# You can write up to 20GB to the current directory (/kaggle/working/) that gets preserved as output when you create a version using \"Save & Run All\" \n",
    "# You can also write temporary files to /kaggle/temp/, but they won't be saved outside of the current session"
   ]
  },
  {
   "cell_type": "code",
   "execution_count": 2,
   "id": "a4f1c229",
   "metadata": {
    "execution": {
     "iopub.execute_input": "2024-04-18T13:47:08.779862Z",
     "iopub.status.busy": "2024-04-18T13:47:08.778785Z",
     "iopub.status.idle": "2024-04-18T13:47:08.784228Z",
     "shell.execute_reply": "2024-04-18T13:47:08.783344Z"
    },
    "papermill": {
     "duration": 0.019805,
     "end_time": "2024-04-18T13:47:08.786636",
     "exception": false,
     "start_time": "2024-04-18T13:47:08.766831",
     "status": "completed"
    },
    "tags": []
   },
   "outputs": [],
   "source": [
    "import pandas as pd\n",
    "import numpy as np\n"
   ]
  },
  {
   "cell_type": "code",
   "execution_count": 3,
   "id": "e6865d2e",
   "metadata": {
    "execution": {
     "iopub.execute_input": "2024-04-18T13:47:08.809230Z",
     "iopub.status.busy": "2024-04-18T13:47:08.808493Z",
     "iopub.status.idle": "2024-04-18T13:47:10.894697Z",
     "shell.execute_reply": "2024-04-18T13:47:10.893376Z"
    },
    "papermill": {
     "duration": 2.10097,
     "end_time": "2024-04-18T13:47:10.897878",
     "exception": false,
     "start_time": "2024-04-18T13:47:08.796908",
     "status": "completed"
    },
    "tags": []
   },
   "outputs": [],
   "source": [
    "# Assuming your data file is named \"data.csv\"\n",
    "df = pd.read_csv(\"/kaggle/input/spotify-million-song-dataset/spotify_millsongdata.csv\")\n"
   ]
  },
  {
   "cell_type": "code",
   "execution_count": 4,
   "id": "f07e5b70",
   "metadata": {
    "execution": {
     "iopub.execute_input": "2024-04-18T13:47:10.920308Z",
     "iopub.status.busy": "2024-04-18T13:47:10.919579Z",
     "iopub.status.idle": "2024-04-18T13:47:10.932326Z",
     "shell.execute_reply": "2024-04-18T13:47:10.931221Z"
    },
    "papermill": {
     "duration": 0.027141,
     "end_time": "2024-04-18T13:47:10.935203",
     "exception": false,
     "start_time": "2024-04-18T13:47:10.908062",
     "status": "completed"
    },
    "tags": []
   },
   "outputs": [
    {
     "name": "stdout",
     "output_type": "stream",
     "text": [
      "  artist                   song                                        link  \\\n",
      "0   ABBA  Ahe's My Kind Of Girl  /a/abba/ahes+my+kind+of+girl_20598417.html   \n",
      "1   ABBA       Andante, Andante       /a/abba/andante+andante_20002708.html   \n",
      "2   ABBA         As Good As New        /a/abba/as+good+as+new_20003033.html   \n",
      "3   ABBA                   Bang                  /a/abba/bang_20598415.html   \n",
      "4   ABBA       Bang-A-Boomerang      /a/abba/bang+a+boomerang_20002668.html   \n",
      "\n",
      "                                                text  \n",
      "0  Look at her face, it's a wonderful face  \\r\\nA...  \n",
      "1  Take it easy with me, please  \\r\\nTouch me gen...  \n",
      "2  I'll never know why I had to go  \\r\\nWhy I had...  \n",
      "3  Making somebody happy is a question of give an...  \n",
      "4  Making somebody happy is a question of give an...  \n"
     ]
    }
   ],
   "source": [
    "print(df.head(5))"
   ]
  },
  {
   "cell_type": "code",
   "execution_count": 5,
   "id": "a3ffab18",
   "metadata": {
    "execution": {
     "iopub.execute_input": "2024-04-18T13:47:10.958918Z",
     "iopub.status.busy": "2024-04-18T13:47:10.958155Z",
     "iopub.status.idle": "2024-04-18T13:47:10.966887Z",
     "shell.execute_reply": "2024-04-18T13:47:10.965426Z"
    },
    "papermill": {
     "duration": 0.023949,
     "end_time": "2024-04-18T13:47:10.969414",
     "exception": false,
     "start_time": "2024-04-18T13:47:10.945465",
     "status": "completed"
    },
    "tags": []
   },
   "outputs": [
    {
     "name": "stdout",
     "output_type": "stream",
     "text": [
      "             artist           song  \\\n",
      "57645  Ziggy Marley  Good Old Days   \n",
      "57646  Ziggy Marley  Hand To Mouth   \n",
      "57647          Zwan   Come With Me   \n",
      "57648          Zwan         Desire   \n",
      "57649          Zwan      Heartsong   \n",
      "\n",
      "                                              link  \\\n",
      "57645  /z/ziggy+marley/good+old+days_10198588.html   \n",
      "57646  /z/ziggy+marley/hand+to+mouth_20531167.html   \n",
      "57647           /z/zwan/come+with+me_20148981.html   \n",
      "57648                 /z/zwan/desire_20148986.html   \n",
      "57649              /z/zwan/heartsong_20148991.html   \n",
      "\n",
      "                                                    text  \n",
      "57645  Irie days come on play  \\r\\nLet the angels fly...  \n",
      "57646  Power to the workers  \\r\\nMore power  \\r\\nPowe...  \n",
      "57647  all you need  \\r\\nis something i'll believe  \\...  \n",
      "57648  northern star  \\r\\nam i frightened  \\r\\nwhere ...  \n",
      "57649  come in  \\r\\nmake yourself at home  \\r\\ni'm a ...  \n"
     ]
    }
   ],
   "source": [
    "# Display the last 5 rows\n",
    "print(df.tail(5))"
   ]
  },
  {
   "cell_type": "code",
   "execution_count": 6,
   "id": "a3669803",
   "metadata": {
    "execution": {
     "iopub.execute_input": "2024-04-18T13:47:10.991183Z",
     "iopub.status.busy": "2024-04-18T13:47:10.990697Z",
     "iopub.status.idle": "2024-04-18T13:47:10.999527Z",
     "shell.execute_reply": "2024-04-18T13:47:10.998459Z"
    },
    "papermill": {
     "duration": 0.022614,
     "end_time": "2024-04-18T13:47:11.001858",
     "exception": false,
     "start_time": "2024-04-18T13:47:10.979244",
     "status": "completed"
    },
    "tags": []
   },
   "outputs": [
    {
     "data": {
      "text/plain": [
       "(57650, 4)"
      ]
     },
     "execution_count": 6,
     "metadata": {},
     "output_type": "execute_result"
    }
   ],
   "source": [
    "df.shape"
   ]
  },
  {
   "cell_type": "code",
   "execution_count": 7,
   "id": "e0e23a9d",
   "metadata": {
    "execution": {
     "iopub.execute_input": "2024-04-18T13:47:11.025287Z",
     "iopub.status.busy": "2024-04-18T13:47:11.024810Z",
     "iopub.status.idle": "2024-04-18T13:47:11.069031Z",
     "shell.execute_reply": "2024-04-18T13:47:11.067931Z"
    },
    "papermill": {
     "duration": 0.058015,
     "end_time": "2024-04-18T13:47:11.071248",
     "exception": false,
     "start_time": "2024-04-18T13:47:11.013233",
     "status": "completed"
    },
    "tags": []
   },
   "outputs": [
    {
     "data": {
      "text/plain": [
       "artist    0\n",
       "song      0\n",
       "link      0\n",
       "text      0\n",
       "dtype: int64"
      ]
     },
     "execution_count": 7,
     "metadata": {},
     "output_type": "execute_result"
    }
   ],
   "source": [
    "df.isnull().sum()"
   ]
  },
  {
   "cell_type": "code",
   "execution_count": 8,
   "id": "b0808a8f",
   "metadata": {
    "execution": {
     "iopub.execute_input": "2024-04-18T13:47:11.093891Z",
     "iopub.status.busy": "2024-04-18T13:47:11.093448Z",
     "iopub.status.idle": "2024-04-18T13:47:11.128579Z",
     "shell.execute_reply": "2024-04-18T13:47:11.127493Z"
    },
    "papermill": {
     "duration": 0.049736,
     "end_time": "2024-04-18T13:47:11.131172",
     "exception": false,
     "start_time": "2024-04-18T13:47:11.081436",
     "status": "completed"
    },
    "tags": []
   },
   "outputs": [],
   "source": [
    "# we are not deal with link column , because recoamandeation is based n=on artist , song, and text ( which user entered while searching ).\n",
    "\n",
    "\n",
    "df = df.sample(5000).drop('link', axis=1).reset_index(drop=True)"
   ]
  },
  {
   "cell_type": "code",
   "execution_count": 9,
   "id": "ec1053ab",
   "metadata": {
    "execution": {
     "iopub.execute_input": "2024-04-18T13:47:11.155118Z",
     "iopub.status.busy": "2024-04-18T13:47:11.154627Z",
     "iopub.status.idle": "2024-04-18T13:47:11.170210Z",
     "shell.execute_reply": "2024-04-18T13:47:11.169080Z"
    },
    "papermill": {
     "duration": 0.031363,
     "end_time": "2024-04-18T13:47:11.173068",
     "exception": false,
     "start_time": "2024-04-18T13:47:11.141705",
     "status": "completed"
    },
    "tags": []
   },
   "outputs": [
    {
     "data": {
      "text/html": [
       "<div>\n",
       "<style scoped>\n",
       "    .dataframe tbody tr th:only-of-type {\n",
       "        vertical-align: middle;\n",
       "    }\n",
       "\n",
       "    .dataframe tbody tr th {\n",
       "        vertical-align: top;\n",
       "    }\n",
       "\n",
       "    .dataframe thead th {\n",
       "        text-align: right;\n",
       "    }\n",
       "</style>\n",
       "<table border=\"1\" class=\"dataframe\">\n",
       "  <thead>\n",
       "    <tr style=\"text-align: right;\">\n",
       "      <th></th>\n",
       "      <th>artist</th>\n",
       "      <th>song</th>\n",
       "      <th>text</th>\n",
       "    </tr>\n",
       "  </thead>\n",
       "  <tbody>\n",
       "    <tr>\n",
       "      <th>0</th>\n",
       "      <td>Bing Crosby</td>\n",
       "      <td>Frosty The Snowman</td>\n",
       "      <td>Frosty, the snowman was a jolly happy soul  \\r...</td>\n",
       "    </tr>\n",
       "    <tr>\n",
       "      <th>1</th>\n",
       "      <td>Cher</td>\n",
       "      <td>Catch The Wind</td>\n",
       "      <td>In the chilly hours and minutes  \\r\\nOf uncert...</td>\n",
       "    </tr>\n",
       "    <tr>\n",
       "      <th>2</th>\n",
       "      <td>Starship</td>\n",
       "      <td>Trouble In Mind</td>\n",
       "      <td>(You know right now I've got trouble in mind) ...</td>\n",
       "    </tr>\n",
       "    <tr>\n",
       "      <th>3</th>\n",
       "      <td>Glee</td>\n",
       "      <td>Glad You Came</td>\n",
       "      <td>The sun goes down  \\r\\nThe stars come out  \\r\\...</td>\n",
       "    </tr>\n",
       "    <tr>\n",
       "      <th>4</th>\n",
       "      <td>Doors</td>\n",
       "      <td>Tell All The People</td>\n",
       "      <td>Tell all the people that you see  \\r\\nFollow m...</td>\n",
       "    </tr>\n",
       "    <tr>\n",
       "      <th>5</th>\n",
       "      <td>Kris Kristofferson</td>\n",
       "      <td>I'm Down, But I Keep Falling</td>\n",
       "      <td>Written by Kris Kristofferson and Rita Coolidg...</td>\n",
       "    </tr>\n",
       "    <tr>\n",
       "      <th>6</th>\n",
       "      <td>Tina Turner</td>\n",
       "      <td>I Smell Trouble</td>\n",
       "      <td>The Lord knows I've tried  \\r\\nTo do what's ri...</td>\n",
       "    </tr>\n",
       "    <tr>\n",
       "      <th>7</th>\n",
       "      <td>Counting Crows</td>\n",
       "      <td>Black And Blue</td>\n",
       "      <td>Fading everything to black and blue  \\r\\nYou l...</td>\n",
       "    </tr>\n",
       "    <tr>\n",
       "      <th>8</th>\n",
       "      <td>Clash</td>\n",
       "      <td>Midnight Log</td>\n",
       "      <td>Working for the devil  \\r\\nYou'll have to pay ...</td>\n",
       "    </tr>\n",
       "    <tr>\n",
       "      <th>9</th>\n",
       "      <td>Reba Mcentire</td>\n",
       "      <td>Glad I Waited Just For You</td>\n",
       "      <td>Use to be (Use to be)  \\r\\nLove was mean to me...</td>\n",
       "    </tr>\n",
       "  </tbody>\n",
       "</table>\n",
       "</div>"
      ],
      "text/plain": [
       "               artist                          song  \\\n",
       "0         Bing Crosby            Frosty The Snowman   \n",
       "1                Cher                Catch The Wind   \n",
       "2            Starship               Trouble In Mind   \n",
       "3                Glee                 Glad You Came   \n",
       "4               Doors           Tell All The People   \n",
       "5  Kris Kristofferson  I'm Down, But I Keep Falling   \n",
       "6         Tina Turner               I Smell Trouble   \n",
       "7      Counting Crows                Black And Blue   \n",
       "8               Clash                  Midnight Log   \n",
       "9       Reba Mcentire    Glad I Waited Just For You   \n",
       "\n",
       "                                                text  \n",
       "0  Frosty, the snowman was a jolly happy soul  \\r...  \n",
       "1  In the chilly hours and minutes  \\r\\nOf uncert...  \n",
       "2  (You know right now I've got trouble in mind) ...  \n",
       "3  The sun goes down  \\r\\nThe stars come out  \\r\\...  \n",
       "4  Tell all the people that you see  \\r\\nFollow m...  \n",
       "5  Written by Kris Kristofferson and Rita Coolidg...  \n",
       "6  The Lord knows I've tried  \\r\\nTo do what's ri...  \n",
       "7  Fading everything to black and blue  \\r\\nYou l...  \n",
       "8  Working for the devil  \\r\\nYou'll have to pay ...  \n",
       "9  Use to be (Use to be)  \\r\\nLove was mean to me...  "
      ]
     },
     "execution_count": 9,
     "metadata": {},
     "output_type": "execute_result"
    }
   ],
   "source": [
    "df.head(10)"
   ]
  },
  {
   "cell_type": "code",
   "execution_count": 10,
   "id": "10104103",
   "metadata": {
    "execution": {
     "iopub.execute_input": "2024-04-18T13:47:11.197173Z",
     "iopub.status.busy": "2024-04-18T13:47:11.196426Z",
     "iopub.status.idle": "2024-04-18T13:47:11.208741Z",
     "shell.execute_reply": "2024-04-18T13:47:11.207753Z"
    },
    "papermill": {
     "duration": 0.027205,
     "end_time": "2024-04-18T13:47:11.211026",
     "exception": false,
     "start_time": "2024-04-18T13:47:11.183821",
     "status": "completed"
    },
    "tags": []
   },
   "outputs": [
    {
     "data": {
      "text/html": [
       "<div>\n",
       "<style scoped>\n",
       "    .dataframe tbody tr th:only-of-type {\n",
       "        vertical-align: middle;\n",
       "    }\n",
       "\n",
       "    .dataframe tbody tr th {\n",
       "        vertical-align: top;\n",
       "    }\n",
       "\n",
       "    .dataframe thead th {\n",
       "        text-align: right;\n",
       "    }\n",
       "</style>\n",
       "<table border=\"1\" class=\"dataframe\">\n",
       "  <thead>\n",
       "    <tr style=\"text-align: right;\">\n",
       "      <th></th>\n",
       "      <th>artist</th>\n",
       "      <th>song</th>\n",
       "      <th>text</th>\n",
       "    </tr>\n",
       "  </thead>\n",
       "  <tbody>\n",
       "    <tr>\n",
       "      <th>0</th>\n",
       "      <td>Bing Crosby</td>\n",
       "      <td>Frosty The Snowman</td>\n",
       "      <td>Frosty, the snowman was a jolly happy soul  \\r...</td>\n",
       "    </tr>\n",
       "    <tr>\n",
       "      <th>1</th>\n",
       "      <td>Cher</td>\n",
       "      <td>Catch The Wind</td>\n",
       "      <td>In the chilly hours and minutes  \\r\\nOf uncert...</td>\n",
       "    </tr>\n",
       "    <tr>\n",
       "      <th>2</th>\n",
       "      <td>Starship</td>\n",
       "      <td>Trouble In Mind</td>\n",
       "      <td>(You know right now I've got trouble in mind) ...</td>\n",
       "    </tr>\n",
       "  </tbody>\n",
       "</table>\n",
       "</div>"
      ],
      "text/plain": [
       "        artist                song  \\\n",
       "0  Bing Crosby  Frosty The Snowman   \n",
       "1         Cher      Catch The Wind   \n",
       "2     Starship     Trouble In Mind   \n",
       "\n",
       "                                                text  \n",
       "0  Frosty, the snowman was a jolly happy soul  \\r...  \n",
       "1  In the chilly hours and minutes  \\r\\nOf uncert...  \n",
       "2  (You know right now I've got trouble in mind) ...  "
      ]
     },
     "execution_count": 10,
     "metadata": {},
     "output_type": "execute_result"
    }
   ],
   "source": [
    "df.head(3)"
   ]
  },
  {
   "cell_type": "code",
   "execution_count": 11,
   "id": "1d2440c2",
   "metadata": {
    "execution": {
     "iopub.execute_input": "2024-04-18T13:47:11.235047Z",
     "iopub.status.busy": "2024-04-18T13:47:11.234637Z",
     "iopub.status.idle": "2024-04-18T13:47:11.244049Z",
     "shell.execute_reply": "2024-04-18T13:47:11.242856Z"
    },
    "papermill": {
     "duration": 0.024357,
     "end_time": "2024-04-18T13:47:11.246466",
     "exception": false,
     "start_time": "2024-04-18T13:47:11.222109",
     "status": "completed"
    },
    "tags": []
   },
   "outputs": [
    {
     "data": {
      "text/plain": [
       "'Frosty, the snowman was a jolly happy soul  \\r\\nWith a corncob pipe and a button nose  \\r\\nAnd eyes made out of coal  \\r\\n  \\r\\nFrosty, the snowman is a fairy tale, they say  \\r\\nHe was made of snow but the children know  \\r\\nThat he came to life one day  \\r\\n  \\r\\nThere must have been some magic  \\r\\nIn that old silk hat they found  \\r\\nFor when they placed it on his head  \\r\\nHe began to dance around  \\r\\n  \\r\\nOh Frosty, the snowman was alive as he could be  \\r\\nAnd the children say he could laugh and play  \\r\\nJust the same as you and me  \\r\\n  \\r\\nThumpetty, thump, thump, thumpety, thump, thump  \\r\\nLook at Frosty go, thumpetty thump thump  \\r\\nThumpety thump thump, over the hills of snow  \\r\\n  \\r\\nFrosty, the snowman knew the sun was hot that day  \\r\\nSo he said, \"Let\\'s run and we\\'ll have some fun  \\r\\nNow, before I melt away\"  \\r\\n  \\r\\nDown to the village with a broomstick in his hand  \\r\\nRunnin\\' here and there, all around the square  \\r\\nSayin\\', \"Catch me if you can\"  \\r\\n  \\r\\nHe led them down the streets of town  \\r\\nRight to the traffic cop  \\r\\nHe only paused a moment  \\r\\nWhen he heard him holler, \"Stop\"  \\r\\n  \\r\\nBecause ol\\' Frosty, the snowman, he had to hurry on his way  \\r\\nBut he waved goodbye sayin\\', \"Don\\'t you cry  \\r\\nI\\'ll be back again some day, I\\'ll be back again some day  \\r\\nI\\'ll be back again some day\"\\r\\n\\r\\n'"
      ]
     },
     "execution_count": 11,
     "metadata": {},
     "output_type": "execute_result"
    }
   ],
   "source": [
    "# to know text cntent for firt row \n",
    "df['text'][0]"
   ]
  },
  {
   "cell_type": "code",
   "execution_count": 12,
   "id": "1cbc82ff",
   "metadata": {
    "execution": {
     "iopub.execute_input": "2024-04-18T13:47:11.271403Z",
     "iopub.status.busy": "2024-04-18T13:47:11.270933Z",
     "iopub.status.idle": "2024-04-18T13:47:11.275733Z",
     "shell.execute_reply": "2024-04-18T13:47:11.274488Z"
    },
    "papermill": {
     "duration": 0.020142,
     "end_time": "2024-04-18T13:47:11.278308",
     "exception": false,
     "start_time": "2024-04-18T13:47:11.258166",
     "status": "completed"
    },
    "tags": []
   },
   "outputs": [],
   "source": [
    "#basicaly we have  57650 rows that is much larger to train so we take a sample of 500 , okay ..!!.\n",
    "\n",
    "#df = df.sample(500)"
   ]
  },
  {
   "cell_type": "code",
   "execution_count": 13,
   "id": "6dc041b7",
   "metadata": {
    "execution": {
     "iopub.execute_input": "2024-04-18T13:47:11.303924Z",
     "iopub.status.busy": "2024-04-18T13:47:11.302504Z",
     "iopub.status.idle": "2024-04-18T13:47:11.309417Z",
     "shell.execute_reply": "2024-04-18T13:47:11.308419Z"
    },
    "papermill": {
     "duration": 0.021947,
     "end_time": "2024-04-18T13:47:11.311638",
     "exception": false,
     "start_time": "2024-04-18T13:47:11.289691",
     "status": "completed"
    },
    "tags": []
   },
   "outputs": [
    {
     "data": {
      "text/plain": [
       "(5000, 3)"
      ]
     },
     "execution_count": 13,
     "metadata": {},
     "output_type": "execute_result"
    }
   ],
   "source": [
    "df.shape"
   ]
  },
  {
   "cell_type": "markdown",
   "id": "5f7a0545",
   "metadata": {
    "papermill": {
     "duration": 0.010972,
     "end_time": "2024-04-18T13:47:11.333940",
     "exception": false,
     "start_time": "2024-04-18T13:47:11.322968",
     "status": "completed"
    },
    "tags": []
   },
   "source": [
    "Text Cleaning/ Text Preprocessing"
   ]
  },
  {
   "cell_type": "code",
   "execution_count": 14,
   "id": "f8336220",
   "metadata": {
    "execution": {
     "iopub.execute_input": "2024-04-18T13:47:11.359244Z",
     "iopub.status.busy": "2024-04-18T13:47:11.358246Z",
     "iopub.status.idle": "2024-04-18T13:47:11.420151Z",
     "shell.execute_reply": "2024-04-18T13:47:11.419032Z"
    },
    "papermill": {
     "duration": 0.077452,
     "end_time": "2024-04-18T13:47:11.423080",
     "exception": false,
     "start_time": "2024-04-18T13:47:11.345628",
     "status": "completed"
    },
    "tags": []
   },
   "outputs": [],
   "source": [
    "#Test cleaning Or Preprocessing\n",
    "\n",
    "#removeing the space and backslash '\\'  and replacing with blank space  ' ' .\n",
    "\n",
    "df['text'] = df['text'].str.lower().replace(r'^\\w\\s', ' ').replace(r'\\n', ' ' ,regex =True)"
   ]
  },
  {
   "cell_type": "code",
   "execution_count": 15,
   "id": "a7e3ea47",
   "metadata": {
    "execution": {
     "iopub.execute_input": "2024-04-18T13:47:11.447930Z",
     "iopub.status.busy": "2024-04-18T13:47:11.447541Z",
     "iopub.status.idle": "2024-04-18T13:47:11.458988Z",
     "shell.execute_reply": "2024-04-18T13:47:11.457985Z"
    },
    "papermill": {
     "duration": 0.02666,
     "end_time": "2024-04-18T13:47:11.461212",
     "exception": false,
     "start_time": "2024-04-18T13:47:11.434552",
     "status": "completed"
    },
    "tags": []
   },
   "outputs": [
    {
     "data": {
      "text/html": [
       "<div>\n",
       "<style scoped>\n",
       "    .dataframe tbody tr th:only-of-type {\n",
       "        vertical-align: middle;\n",
       "    }\n",
       "\n",
       "    .dataframe tbody tr th {\n",
       "        vertical-align: top;\n",
       "    }\n",
       "\n",
       "    .dataframe thead th {\n",
       "        text-align: right;\n",
       "    }\n",
       "</style>\n",
       "<table border=\"1\" class=\"dataframe\">\n",
       "  <thead>\n",
       "    <tr style=\"text-align: right;\">\n",
       "      <th></th>\n",
       "      <th>artist</th>\n",
       "      <th>song</th>\n",
       "      <th>text</th>\n",
       "    </tr>\n",
       "  </thead>\n",
       "  <tbody>\n",
       "    <tr>\n",
       "      <th>4996</th>\n",
       "      <td>Ziggy Marley</td>\n",
       "      <td>Rainbow In The Sky</td>\n",
       "      <td>there's a rainbow in the sky all the time don'...</td>\n",
       "    </tr>\n",
       "    <tr>\n",
       "      <th>4997</th>\n",
       "      <td>Uriah Heep</td>\n",
       "      <td>Prima Donna</td>\n",
       "      <td>i'll go down fightin'  \\r but rather be deligh...</td>\n",
       "    </tr>\n",
       "    <tr>\n",
       "      <th>4998</th>\n",
       "      <td>George Strait</td>\n",
       "      <td>Breath You Take</td>\n",
       "      <td>he looks up from second base  \\r dad's up in t...</td>\n",
       "    </tr>\n",
       "    <tr>\n",
       "      <th>4999</th>\n",
       "      <td>Reo Speedwagon</td>\n",
       "      <td>Can't Stop Rockin'</td>\n",
       "      <td>i can't stop, can't stop rockin'  \\r   \\r the ...</td>\n",
       "    </tr>\n",
       "  </tbody>\n",
       "</table>\n",
       "</div>"
      ],
      "text/plain": [
       "              artist                song  \\\n",
       "4996    Ziggy Marley  Rainbow In The Sky   \n",
       "4997      Uriah Heep         Prima Donna   \n",
       "4998   George Strait     Breath You Take   \n",
       "4999  Reo Speedwagon  Can't Stop Rockin'   \n",
       "\n",
       "                                                   text  \n",
       "4996  there's a rainbow in the sky all the time don'...  \n",
       "4997  i'll go down fightin'  \\r but rather be deligh...  \n",
       "4998  he looks up from second base  \\r dad's up in t...  \n",
       "4999  i can't stop, can't stop rockin'  \\r   \\r the ...  "
      ]
     },
     "execution_count": 15,
     "metadata": {},
     "output_type": "execute_result"
    }
   ],
   "source": [
    "df.tail(4)"
   ]
  },
  {
   "cell_type": "code",
   "execution_count": 16,
   "id": "8b0241e1",
   "metadata": {
    "execution": {
     "iopub.execute_input": "2024-04-18T13:47:11.485176Z",
     "iopub.status.busy": "2024-04-18T13:47:11.484762Z",
     "iopub.status.idle": "2024-04-18T13:47:13.493487Z",
     "shell.execute_reply": "2024-04-18T13:47:13.492447Z"
    },
    "papermill": {
     "duration": 2.023491,
     "end_time": "2024-04-18T13:47:13.495983",
     "exception": false,
     "start_time": "2024-04-18T13:47:11.472492",
     "status": "completed"
    },
    "tags": []
   },
   "outputs": [],
   "source": [
    "import nltk\n",
    "from nltk.stem.porter import PorterStemmer"
   ]
  },
  {
   "cell_type": "code",
   "execution_count": 17,
   "id": "822df5f4",
   "metadata": {
    "execution": {
     "iopub.execute_input": "2024-04-18T13:47:13.520866Z",
     "iopub.status.busy": "2024-04-18T13:47:13.520165Z",
     "iopub.status.idle": "2024-04-18T13:47:13.524522Z",
     "shell.execute_reply": "2024-04-18T13:47:13.523748Z"
    },
    "papermill": {
     "duration": 0.018989,
     "end_time": "2024-04-18T13:47:13.526601",
     "exception": false,
     "start_time": "2024-04-18T13:47:13.507612",
     "status": "completed"
    },
    "tags": []
   },
   "outputs": [],
   "source": [
    "stemmer = PorterStemmer()"
   ]
  },
  {
   "cell_type": "code",
   "execution_count": 18,
   "id": "654c1212",
   "metadata": {
    "execution": {
     "iopub.execute_input": "2024-04-18T13:47:13.551637Z",
     "iopub.status.busy": "2024-04-18T13:47:13.550973Z",
     "iopub.status.idle": "2024-04-18T13:47:13.556026Z",
     "shell.execute_reply": "2024-04-18T13:47:13.555172Z"
    },
    "papermill": {
     "duration": 0.020223,
     "end_time": "2024-04-18T13:47:13.558113",
     "exception": false,
     "start_time": "2024-04-18T13:47:13.537890",
     "status": "completed"
    },
    "tags": []
   },
   "outputs": [],
   "source": [
    "def token(txt):\n",
    "    token = nltk.word_tokenize(txt)\n",
    "    a= [stemmer.stem(w) for w in token ]\n",
    "    return \" \" .join(a)"
   ]
  },
  {
   "cell_type": "code",
   "execution_count": 19,
   "id": "2ec2ca81",
   "metadata": {
    "execution": {
     "iopub.execute_input": "2024-04-18T13:47:13.582883Z",
     "iopub.status.busy": "2024-04-18T13:47:13.582216Z",
     "iopub.status.idle": "2024-04-18T13:47:59.182597Z",
     "shell.execute_reply": "2024-04-18T13:47:59.181705Z"
    },
    "papermill": {
     "duration": 45.627319,
     "end_time": "2024-04-18T13:47:59.196707",
     "exception": false,
     "start_time": "2024-04-18T13:47:13.569388",
     "status": "completed"
    },
    "tags": []
   },
   "outputs": [
    {
     "data": {
      "text/plain": [
       "0       frosti , the snowman wa a jolli happi soul wit...\n",
       "1       in the chilli hour and minut of uncertainti i ...\n",
       "2       ( you know right now i 've got troubl in mind ...\n",
       "3       the sun goe down the star come out and all tha...\n",
       "4       tell all the peopl that you see follow me foll...\n",
       "                              ...                        \n",
       "4995    mayb i 'm imagin the thing they say about me m...\n",
       "4996    there 's a rainbow in the sky all the time do ...\n",
       "4997    i 'll go down fightin ' but rather be delighti...\n",
       "4998    he look up from second base dad 's up in the s...\n",
       "4999    i ca n't stop , ca n't stop rockin ' the whole...\n",
       "Name: text, Length: 5000, dtype: object"
      ]
     },
     "execution_count": 19,
     "metadata": {},
     "output_type": "execute_result"
    }
   ],
   "source": [
    "df['text'].apply(lambda x: token(x))"
   ]
  },
  {
   "cell_type": "code",
   "execution_count": 20,
   "id": "6f68b93e",
   "metadata": {
    "execution": {
     "iopub.execute_input": "2024-04-18T13:47:59.222161Z",
     "iopub.status.busy": "2024-04-18T13:47:59.221463Z",
     "iopub.status.idle": "2024-04-18T13:47:59.225792Z",
     "shell.execute_reply": "2024-04-18T13:47:59.225030Z"
    },
    "papermill": {
     "duration": 0.019642,
     "end_time": "2024-04-18T13:47:59.227934",
     "exception": false,
     "start_time": "2024-04-18T13:47:59.208292",
     "status": "completed"
    },
    "tags": []
   },
   "outputs": [],
   "source": [
    "from sklearn.feature_extraction.text import TfidfVectorizer\n",
    "from sklearn.metrics.pairwise import cosine_similarity"
   ]
  },
  {
   "cell_type": "code",
   "execution_count": 21,
   "id": "468656ab",
   "metadata": {
    "execution": {
     "iopub.execute_input": "2024-04-18T13:47:59.253754Z",
     "iopub.status.busy": "2024-04-18T13:47:59.253173Z",
     "iopub.status.idle": "2024-04-18T13:47:59.257796Z",
     "shell.execute_reply": "2024-04-18T13:47:59.256842Z"
    },
    "papermill": {
     "duration": 0.020404,
     "end_time": "2024-04-18T13:47:59.260167",
     "exception": false,
     "start_time": "2024-04-18T13:47:59.239763",
     "status": "completed"
    },
    "tags": []
   },
   "outputs": [],
   "source": [
    "tfid = TfidfVectorizer(analyzer='word',stop_words = 'english')"
   ]
  },
  {
   "cell_type": "code",
   "execution_count": 22,
   "id": "8b2a0b7b",
   "metadata": {
    "execution": {
     "iopub.execute_input": "2024-04-18T13:47:59.286641Z",
     "iopub.status.busy": "2024-04-18T13:47:59.285693Z",
     "iopub.status.idle": "2024-04-18T13:48:00.449374Z",
     "shell.execute_reply": "2024-04-18T13:48:00.448073Z"
    },
    "papermill": {
     "duration": 1.180628,
     "end_time": "2024-04-18T13:48:00.452590",
     "exception": false,
     "start_time": "2024-04-18T13:47:59.271962",
     "status": "completed"
    },
    "tags": []
   },
   "outputs": [],
   "source": [
    "matrix = tfid.fit_transform(df['text'])"
   ]
  },
  {
   "cell_type": "code",
   "execution_count": 23,
   "id": "a39f70d5",
   "metadata": {
    "execution": {
     "iopub.execute_input": "2024-04-18T13:48:00.478518Z",
     "iopub.status.busy": "2024-04-18T13:48:00.477559Z",
     "iopub.status.idle": "2024-04-18T13:48:02.046373Z",
     "shell.execute_reply": "2024-04-18T13:48:02.045219Z"
    },
    "papermill": {
     "duration": 1.584958,
     "end_time": "2024-04-18T13:48:02.049298",
     "exception": false,
     "start_time": "2024-04-18T13:48:00.464340",
     "status": "completed"
    },
    "tags": []
   },
   "outputs": [],
   "source": [
    "similer = cosine_similarity(matrix)"
   ]
  },
  {
   "cell_type": "code",
   "execution_count": 24,
   "id": "8e3e820b",
   "metadata": {
    "execution": {
     "iopub.execute_input": "2024-04-18T13:48:02.074639Z",
     "iopub.status.busy": "2024-04-18T13:48:02.074249Z",
     "iopub.status.idle": "2024-04-18T13:48:02.081212Z",
     "shell.execute_reply": "2024-04-18T13:48:02.080252Z"
    },
    "papermill": {
     "duration": 0.022589,
     "end_time": "2024-04-18T13:48:02.083880",
     "exception": false,
     "start_time": "2024-04-18T13:48:02.061291",
     "status": "completed"
    },
    "tags": []
   },
   "outputs": [
    {
     "data": {
      "text/plain": [
       "array([1.        , 0.0239637 , 0.02844151, ..., 0.01658878, 0.03241073,\n",
       "       0.02908016])"
      ]
     },
     "execution_count": 24,
     "metadata": {},
     "output_type": "execute_result"
    }
   ],
   "source": [
    "similer[0]"
   ]
  },
  {
   "cell_type": "code",
   "execution_count": 25,
   "id": "62ddada3",
   "metadata": {
    "execution": {
     "iopub.execute_input": "2024-04-18T13:48:02.109512Z",
     "iopub.status.busy": "2024-04-18T13:48:02.109108Z",
     "iopub.status.idle": "2024-04-18T13:48:02.122740Z",
     "shell.execute_reply": "2024-04-18T13:48:02.121666Z"
    },
    "papermill": {
     "duration": 0.029602,
     "end_time": "2024-04-18T13:48:02.125297",
     "exception": false,
     "start_time": "2024-04-18T13:48:02.095695",
     "status": "completed"
    },
    "tags": []
   },
   "outputs": [
    {
     "data": {
      "text/html": [
       "<div>\n",
       "<style scoped>\n",
       "    .dataframe tbody tr th:only-of-type {\n",
       "        vertical-align: middle;\n",
       "    }\n",
       "\n",
       "    .dataframe tbody tr th {\n",
       "        vertical-align: top;\n",
       "    }\n",
       "\n",
       "    .dataframe thead th {\n",
       "        text-align: right;\n",
       "    }\n",
       "</style>\n",
       "<table border=\"1\" class=\"dataframe\">\n",
       "  <thead>\n",
       "    <tr style=\"text-align: right;\">\n",
       "      <th></th>\n",
       "      <th>artist</th>\n",
       "      <th>song</th>\n",
       "      <th>text</th>\n",
       "    </tr>\n",
       "  </thead>\n",
       "  <tbody>\n",
       "  </tbody>\n",
       "</table>\n",
       "</div>"
      ],
      "text/plain": [
       "Empty DataFrame\n",
       "Columns: [artist, song, text]\n",
       "Index: []"
      ]
     },
     "execution_count": 25,
     "metadata": {},
     "output_type": "execute_result"
    }
   ],
   "source": [
    "df[df['song'] == 'Your Star Will Shine']"
   ]
  },
  {
   "cell_type": "code",
   "execution_count": 26,
   "id": "7807e0d6",
   "metadata": {
    "execution": {
     "iopub.execute_input": "2024-04-18T13:48:02.151703Z",
     "iopub.status.busy": "2024-04-18T13:48:02.150669Z",
     "iopub.status.idle": "2024-04-18T13:48:02.158690Z",
     "shell.execute_reply": "2024-04-18T13:48:02.157759Z"
    },
    "papermill": {
     "duration": 0.023584,
     "end_time": "2024-04-18T13:48:02.161070",
     "exception": false,
     "start_time": "2024-04-18T13:48:02.137486",
     "status": "completed"
    },
    "tags": []
   },
   "outputs": [],
   "source": [
    "def recommendation(song_df):\n",
    "    filtered_df = df[df['song'] == song_df]\n",
    "    if filtered_df.empty:\n",
    "        return \"Song not found in the dataset\"\n",
    "    \n",
    "    idx = filtered_df.index[0]\n",
    "    distances = sorted(list(enumerate(similer[idx])), reverse=True, key=lambda x: x[1])\n",
    "    \n",
    "    songs = []\n",
    "    for m_id in distances[1:21]:\n",
    "        songs.append(df.iloc[m_id[0]].song)\n",
    "        \n",
    "    return songs\n"
   ]
  },
  {
   "cell_type": "code",
   "execution_count": 27,
   "id": "31ba152f",
   "metadata": {
    "execution": {
     "iopub.execute_input": "2024-04-18T13:48:02.188390Z",
     "iopub.status.busy": "2024-04-18T13:48:02.187976Z",
     "iopub.status.idle": "2024-04-18T13:48:02.197286Z",
     "shell.execute_reply": "2024-04-18T13:48:02.196100Z"
    },
    "papermill": {
     "duration": 0.025031,
     "end_time": "2024-04-18T13:48:02.199570",
     "exception": false,
     "start_time": "2024-04-18T13:48:02.174539",
     "status": "completed"
    },
    "tags": []
   },
   "outputs": [
    {
     "data": {
      "text/plain": [
       "'Song not found in the dataset'"
      ]
     },
     "execution_count": 27,
     "metadata": {},
     "output_type": "execute_result"
    }
   ],
   "source": [
    "recommendation('Your Star Will Shine')"
   ]
  },
  {
   "cell_type": "code",
   "execution_count": null,
   "id": "5ddca884",
   "metadata": {
    "papermill": {
     "duration": 0.011782,
     "end_time": "2024-04-18T13:48:02.223487",
     "exception": false,
     "start_time": "2024-04-18T13:48:02.211705",
     "status": "completed"
    },
    "tags": []
   },
   "outputs": [],
   "source": []
  },
  {
   "cell_type": "code",
   "execution_count": null,
   "id": "9cd21993",
   "metadata": {
    "papermill": {
     "duration": 0.011734,
     "end_time": "2024-04-18T13:48:02.247181",
     "exception": false,
     "start_time": "2024-04-18T13:48:02.235447",
     "status": "completed"
    },
    "tags": []
   },
   "outputs": [],
   "source": []
  }
 ],
 "metadata": {
  "kaggle": {
   "accelerator": "none",
   "dataSources": [
    {
     "datasetId": 2660706,
     "sourceId": 4558658,
     "sourceType": "datasetVersion"
    }
   ],
   "dockerImageVersionId": 30684,
   "isGpuEnabled": false,
   "isInternetEnabled": true,
   "language": "python",
   "sourceType": "notebook"
  },
  "kernelspec": {
   "display_name": "Python 3",
   "language": "python",
   "name": "python3"
  },
  "language_info": {
   "codemirror_mode": {
    "name": "ipython",
    "version": 3
   },
   "file_extension": ".py",
   "mimetype": "text/x-python",
   "name": "python",
   "nbconvert_exporter": "python",
   "pygments_lexer": "ipython3",
   "version": "3.10.13"
  },
  "papermill": {
   "default_parameters": {},
   "duration": 58.446083,
   "end_time": "2024-04-18T13:48:03.082809",
   "environment_variables": {},
   "exception": null,
   "input_path": "__notebook__.ipynb",
   "output_path": "__notebook__.ipynb",
   "parameters": {},
   "start_time": "2024-04-18T13:47:04.636726",
   "version": "2.5.0"
  }
 },
 "nbformat": 4,
 "nbformat_minor": 5
}
